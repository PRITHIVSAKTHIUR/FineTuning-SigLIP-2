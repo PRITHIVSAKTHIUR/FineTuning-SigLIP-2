{
  "cells": [
    {
      "cell_type": "code",
      "execution_count": 1,
      "metadata": {
        "colab": {
          "base_uri": "https://localhost:8080/",
          "height": 17,
          "referenced_widgets": [
            "d394e6c2fce94ef4b69da321b0f9f8d4",
            "6f7a900b63e444c3b27961fcb892a44c",
            "d968fffc78a74807a7e1921ca3c633ea",
            "b441467a690f458e94314ff195128db0",
            "0c9eb7a66524414fbcd294e63eddea2e",
            "a7284d6c78d84aa8842893a297cdc107",
            "916d313ee9ee4b29a6bdeee5575cfd13",
            "c3138a6d2fa447e1a69494ce9b0ca476",
            "32f3d6acced5457fa95ef1a87007d2fe",
            "54b22f661d5c4cbcbed12c846cc9874c",
            "cb2eadcfbc29415a8df0eaec8cb8b657",
            "df1decaa2f1144149f4510738f8233de",
            "f0436d8b604d440bb6cb33531ac45cf7",
            "9dc7b5351b4e4cbab1fdc4dbee0283eb",
            "ad71a199be2a46919e8cadb952ef68dc",
            "96aaee41270a4877b7b54602bef4cc99",
            "26f0ecf1295f40ebbe7a922032bcd04b",
            "f84f85a9319d4d02b8c23add8d8784c2",
            "5ead39b4f9bc49c2962e8a38388720af",
            "492ffa2151974379a9627f0b05b28b5e"
          ]
        },
        "id": "WZ_gPFeVNd12",
        "outputId": "e4077c42-9d7c-4a4b-d4fc-bbc6aed477dc"
      },
      "outputs": [
        {
          "data": {
            "application/vnd.jupyter.widget-view+json": {
              "model_id": "d394e6c2fce94ef4b69da321b0f9f8d4",
              "version_major": 2,
              "version_minor": 0
            },
            "text/plain": [
              "VBox(children=(HTML(value='<center> <img\\nsrc=https://huggingface.co/front/assets/huggingface_logo-noborder.sv…"
            ]
          },
          "metadata": {},
          "output_type": "display_data"
        }
      ],
      "source": [
        "from huggingface_hub import notebook_login, HfApi\n",
        "notebook_login()"
      ]
    },
    {
      "cell_type": "markdown",
      "metadata": {
        "id": "edrxauqsOe4u"
      },
      "source": [
        "**`Install the packages`**"
      ]
    },
    {
      "cell_type": "code",
      "execution_count": 2,
      "metadata": {
        "id": "4L0K84qCM3iB"
      },
      "outputs": [],
      "source": [
        "%%capture\n",
        "!pip install evaluate datasets==3.2.0 accelerate\n",
        "!pip install transformers==4.50.0 torchvision\n",
        "!pip install huggingface-hub==0.31.0 hf_xet"
      ]
    },
    {
      "cell_type": "markdown",
      "metadata": {
        "id": "Uf8nA1zcO0Jm"
      },
      "source": [
        "**`Import necessary modules`**"
      ]
    },
    {
      "cell_type": "code",
      "execution_count": null,
      "metadata": {
        "id": "AfF-cbidNB99"
      },
      "outputs": [],
      "source": [
        "import warnings\n",
        "warnings.filterwarnings(\"ignore\")\n",
        "\n",
        "import gc\n",
        "import numpy as np\n",
        "import pandas as pd\n",
        "import itertools\n",
        "from collections import Counter\n",
        "import matplotlib.pyplot as plt\n",
        "from sklearn.metrics import accuracy_score, roc_auc_score, confusion_matrix, classification_report, f1_score\n",
        "from imblearn.over_sampling import RandomOverSampler\n",
        "import evaluate\n",
        "from datasets import Dataset, Image, ClassLabel, load_dataset\n",
        "from transformers import (\n",
        "    TrainingArguments,\n",
        "    Trainer,\n",
        "    SiglipForImageClassification,\n",
        "    AutoImageProcessor,\n",
        "    ViTForImageClassification,# For ViT models\n",
        "    ViTImageProcessor, # For ViT models\n",
        "    DefaultDataCollator,\n",
        "    AutoModel,\n",
        "    AutoProcessor\n",
        ")\n",
        "from transformers.image_utils import load_image\n",
        "import torch\n",
        "from torch.utils.data import DataLoader\n",
        "from torchvision.transforms import (\n",
        "    CenterCrop,\n",
        "    Compose,\n",
        "    Normalize,\n",
        "    RandomRotation,\n",
        "    RandomResizedCrop,\n",
        "    RandomHorizontalFlip,\n",
        "    RandomAdjustSharpness,\n",
        "    Resize,\n",
        "    ToTensor\n",
        ")\n",
        "from PIL import Image, ExifTags, ImageFile\n",
        "ImageFile.LOAD_TRUNCATED_IMAGES = True"
      ]
    },
    {
      "cell_type": "markdown",
      "metadata": {
        "id": "myej9bXYPuSp"
      },
      "source": [
        "**`Structuring and Processing of the Dataset`**"
      ]
    },
    {
      "cell_type": "code",
      "execution_count": null,
      "metadata": {
        "id": "7z5gzppqN9y2"
      },
      "outputs": [],
      "source": [
        "dataset = load_dataset(\"---your---dataset---here---\", split=\"train\")\n",
        "\n",
        "# Build DataFrame from dataset (for oversampling)\n",
        "file_names = []\n",
        "labels = []\n",
        "for example in dataset:\n",
        "    file_path = str(example['image'])\n",
        "    label = example['label']\n",
        "    file_names.append(file_path)\n",
        "    labels.append(label)\n",
        "\n",
        "print(len(file_names), len(labels))\n",
        "df = pd.DataFrame.from_dict({\"image\": file_names, \"label\": labels})\n",
        "print(\"DataFrame shape:\", df.shape)\n",
        "print(df.head())\n",
        "print(\"Unique labels:\", df['label'].unique())\n",
        "\n",
        "# Oversample to balance classes\n",
        "y = df[['label']]\n",
        "df_no_label = df.drop(['label'], axis=1)\n",
        "ros = RandomOverSampler(random_state=83)\n",
        "df_resampled, y_resampled = ros.fit_resample(df_no_label, y)\n",
        "df_resampled['label'] = y_resampled\n",
        "df = df_resampled  # use the oversampled DataFrame\n",
        "del y, y_resampled, df_no_label\n",
        "gc.collect()\n",
        "\n",
        "# Define label mappings (>> adjust labels_list as needed >>)\n",
        "labels_list = ['class0', 'class1']\n",
        "\n",
        "label2id = {label: i for i, label in enumerate(labels_list)}\n",
        "id2label = {i: label for i, label in enumerate(labels_list)}\n",
        "ClassLabels = ClassLabel(num_classes=len(labels_list), names=labels_list)\n",
        "print(\"Mapping of IDs to Labels:\", id2label)\n",
        "print(\"Mapping of Labels to IDs:\", label2id)\n",
        "\n",
        "# Update dataset with label mapping\n",
        "def map_label2id(example):\n",
        "    example['label'] = ClassLabels.str2int(example['label'])\n",
        "    return example\n",
        "\n",
        "dataset = dataset.map(map_label2id, batched=True)\n",
        "dataset = dataset.cast_column('label', ClassLabels)\n",
        "\n",
        "full_data = dataset"
      ]
    },
    {
      "cell_type": "markdown",
      "metadata": {
        "id": "ccqwsBWCQMQR"
      },
      "source": [
        "**`Download Model Weights`**"
      ]
    },
    {
      "cell_type": "code",
      "execution_count": null,
      "metadata": {
        "id": "hJtuTjEBQL8w"
      },
      "outputs": [],
      "source": [
        "model_str = \"google/siglip2-base-patch16-224\"\n",
        "processor = AutoImageProcessor.from_pretrained(model_str)\n",
        "\n",
        "# Uncomment the following lines if you want to use ViT models instead\n",
        "#model_str = \"google/vit-base-patch16-224-in21k\"\n",
        "#processor = ViTImageProcessor.from_pretrained(model_str)"
      ]
    },
    {
      "cell_type": "markdown",
      "metadata": {
        "id": "Or47EVWWQ0rP"
      },
      "source": [
        "**`Image processing and transformations`**"
      ]
    },
    {
      "cell_type": "code",
      "execution_count": null,
      "metadata": {
        "id": "WVQ26JiOQLO4"
      },
      "outputs": [],
      "source": [
        "# Extract parameters from processor\n",
        "image_mean, image_std = processor.image_mean, processor.image_std\n",
        "size = processor.size[\"height\"]\n",
        "\n",
        "# Define training and validation transforms\n",
        "_train_transforms = Compose([\n",
        "    Resize((size, size)),\n",
        "    RandomRotation(90),\n",
        "    RandomAdjustSharpness(2),\n",
        "    ToTensor(),\n",
        "    Normalize(mean=image_mean, std=image_std)\n",
        "])\n",
        "_val_transforms = Compose([\n",
        "    Resize((size, size)),\n",
        "    ToTensor(),\n",
        "    Normalize(mean=image_mean, std=image_std)\n",
        "])\n",
        "\n",
        "def train_transforms(examples):\n",
        "    examples['pixel_values'] = [_train_transforms(image.convert(\"RGB\")) for image in examples['image']]\n",
        "    return examples\n",
        "\n",
        "def val_transforms(examples):\n",
        "    examples['pixel_values'] = [_val_transforms(image.convert(\"RGB\")) for image in examples['image']]\n",
        "    return examples\n",
        "\n",
        "# Create training and evaluation datasets with different transforms\n",
        "train_data = full_data.with_transform(train_transforms)\n",
        "eval_data = full_data.with_transform(val_transforms)\n",
        "\n",
        "def collate_fn(examples):\n",
        "    pixel_values = torch.stack([example[\"pixel_values\"] for example in examples])\n",
        "    labels = torch.tensor([example['label'] for example in examples])\n",
        "    return {\"pixel_values\": pixel_values, \"labels\": labels}\n",
        "\n",
        "# -----------------------\n",
        "# Load model and set configuration\n",
        "# -----------------------\n",
        "model = SiglipForImageClassification.from_pretrained(model_str, num_labels=len(labels_list))\n",
        "# Uncomment the following line if you want to use ViT models instead\n",
        "#model = ViTForImageClassification.from_pretrained(model_str, num_labels=len(labels_list))\n",
        "model.config.id2label = id2label\n",
        "model.config.label2id = label2id\n",
        "\n",
        "print(\"Trainable parameters (in millions):\", model.num_parameters(only_trainable=True) / 1e6)"
      ]
    },
    {
      "cell_type": "code",
      "execution_count": null,
      "metadata": {
        "id": "59MidAKARLYA"
      },
      "outputs": [],
      "source": [
        "accuracy_metric = evaluate.load(\"accuracy\")\n",
        "def compute_metrics(eval_pred):\n",
        "    predictions = eval_pred.predictions\n",
        "    label_ids = eval_pred.label_ids\n",
        "    predicted_labels = predictions.argmax(axis=1)\n",
        "    acc_score = accuracy_metric.compute(predictions=predicted_labels, references=label_ids)['accuracy']\n",
        "    return {\"accuracy\": acc_score}"
      ]
    },
    {
      "cell_type": "markdown",
      "metadata": {
        "id": "G-ccrthkRZYR"
      },
      "source": [
        "**`Set up TrainingArguments and Trainer`**"
      ]
    },
    {
      "cell_type": "code",
      "execution_count": null,
      "metadata": {
        "id": "OBX40WxKRQco"
      },
      "outputs": [],
      "source": [
        "args = TrainingArguments(\n",
        "    output_dir=\"siglip2-finetune-full\",\n",
        "    logging_dir='./logs',\n",
        "    evaluation_strategy=\"epoch\",  # Evaluate at the end of each epoch on eval_data\n",
        "    learning_rate=5e-6,\n",
        "    per_device_train_batch_size=32,\n",
        "    per_device_eval_batch_size=8,\n",
        "    num_train_epochs=2,\n",
        "    weight_decay=0.02,\n",
        "    warmup_steps=50,\n",
        "    remove_unused_columns=False,\n",
        "    save_strategy='epoch',\n",
        "    load_best_model_at_end=True,\n",
        "    save_total_limit=1,\n",
        "    report_to=\"none\"\n",
        ")\n",
        "\n",
        "trainer = Trainer(\n",
        "    model=model,\n",
        "    args=args,\n",
        "    train_dataset=train_data,\n",
        "    eval_dataset=eval_data,\n",
        "    data_collator=collate_fn,\n",
        "    compute_metrics=compute_metrics,\n",
        "    tokenizer=processor,\n",
        ")\n",
        "\n",
        "# -----------------------\n",
        "# Fine-tuning: Evaluation, Training, and Prediction\n",
        "# -----------------------\n",
        "# Optional evaluation before training\n",
        "trainer.evaluate()\n",
        "\n",
        "# Fine-tune the model on the full dataset\n",
        "trainer.train()\n",
        "\n",
        "# Evaluate after training\n",
        "trainer.evaluate()"
      ]
    },
    {
      "cell_type": "markdown",
      "metadata": {
        "id": "-gp_JCV5RmH4"
      },
      "source": [
        "**`Get predictions and compute metrics`**"
      ]
    },
    {
      "cell_type": "code",
      "execution_count": null,
      "metadata": {
        "id": "HFPOev-uReAw"
      },
      "outputs": [],
      "source": [
        "outputs = trainer.predict(eval_data)\n",
        "print(\"Prediction metrics:\", outputs.metrics)\n",
        "y_true = outputs.label_ids\n",
        "y_pred = outputs.predictions.argmax(1)\n",
        "\n",
        "\n",
        "def plot_confusion_matrix(cm, classes, title='Confusion Matrix', cmap=plt.cm.Reds, figsize=(10, 8)):\n",
        "    plt.figure(figsize=figsize)\n",
        "    plt.imshow(cm, interpolation='nearest', cmap=cmap)\n",
        "    plt.title(title)\n",
        "    plt.colorbar()\n",
        "    tick_marks = np.arange(len(classes))\n",
        "    plt.xticks(tick_marks, classes, rotation=90)\n",
        "    plt.yticks(tick_marks, classes)\n",
        "    fmt = '.0f'\n",
        "    thresh = cm.max() / 2.0\n",
        "    for i, j in itertools.product(range(cm.shape[0]), range(cm.shape[1])):\n",
        "        plt.text(j, i, format(cm[i, j], fmt),\n",
        "                 horizontalalignment=\"center\",\n",
        "                 color=\"white\" if cm[i, j] > thresh else \"black\")\n",
        "    plt.ylabel('True label')\n",
        "    plt.xlabel('Predicted label')\n",
        "    plt.tight_layout()\n",
        "    plt.show()\n",
        "\n",
        "acc = accuracy_score(y_true, y_pred)\n",
        "f1 = f1_score(y_true, y_pred, average='macro')\n",
        "print(f\"Accuracy: {acc:.4f}\")\n",
        "print(f\"F1 Score: {f1:.4f}\")\n",
        "\n",
        "if len(labels_list) <= 150:\n",
        "    cm = confusion_matrix(y_true, y_pred)\n",
        "    plot_confusion_matrix(cm, labels_list, figsize=(8, 6))\n",
        "\n",
        "print(\"\\nClassification Report:\")\n",
        "print(classification_report(y_true, y_pred, target_names=labels_list, digits=4))"
      ]
    },
    {
      "cell_type": "code",
      "execution_count": null,
      "metadata": {
        "id": "VhUuiMU6Rxtx"
      },
      "outputs": [],
      "source": [
        "# -----------------------\n",
        "# Save and upload the model\n",
        "# -----------------------\n",
        "trainer.save_model()"
      ]
    },
    {
      "cell_type": "code",
      "execution_count": null,
      "metadata": {
        "id": "TFOhEWASRzjo"
      },
      "outputs": [],
      "source": [
        "api = HfApi()\n",
        "repo_id = \"---your---hf---repo---\" #Change to your desired repo ID"
      ]
    },
    {
      "cell_type": "code",
      "execution_count": null,
      "metadata": {
        "id": "uicdno6mR9mw"
      },
      "outputs": [],
      "source": [
        "api.upload_folder(\n",
        "    folder_path=\"siglip2-finetune-full/\",\n",
        "    path_in_repo=\".\",\n",
        "    repo_id=repo_id,\n",
        "    repo_type=\"model\",\n",
        "    revision=\"main\"\n",
        ")"
      ]
    }
  ],
  "metadata": {
    "accelerator": "GPU",
    "colab": {
      "gpuType": "T4",
      "provenance": []
    },
    "kernelspec": {
      "display_name": "Python 3",
      "name": "python3"
    },
    "language_info": {
      "name": "python"
    },
    "widgets": {
      "application/vnd.jupyter.widget-state+json": {
        "0c9eb7a66524414fbcd294e63eddea2e": {
          "model_module": "@jupyter-widgets/controls",
          "model_module_version": "1.5.0",
          "model_name": "ButtonModel",
          "state": {
            "_dom_classes": [],
            "_model_module": "@jupyter-widgets/controls",
            "_model_module_version": "1.5.0",
            "_model_name": "ButtonModel",
            "_view_count": null,
            "_view_module": "@jupyter-widgets/controls",
            "_view_module_version": "1.5.0",
            "_view_name": "ButtonView",
            "button_style": "",
            "description": "Login",
            "disabled": false,
            "icon": "",
            "layout": "IPY_MODEL_9dc7b5351b4e4cbab1fdc4dbee0283eb",
            "style": "IPY_MODEL_ad71a199be2a46919e8cadb952ef68dc",
            "tooltip": ""
          }
        },
        "26f0ecf1295f40ebbe7a922032bcd04b": {
          "model_module": "@jupyter-widgets/controls",
          "model_module_version": "1.5.0",
          "model_name": "DescriptionStyleModel",
          "state": {
            "_model_module": "@jupyter-widgets/controls",
            "_model_module_version": "1.5.0",
            "_model_name": "DescriptionStyleModel",
            "_view_count": null,
            "_view_module": "@jupyter-widgets/base",
            "_view_module_version": "1.2.0",
            "_view_name": "StyleView",
            "description_width": ""
          }
        },
        "32f3d6acced5457fa95ef1a87007d2fe": {
          "model_module": "@jupyter-widgets/controls",
          "model_module_version": "1.5.0",
          "model_name": "DescriptionStyleModel",
          "state": {
            "_model_module": "@jupyter-widgets/controls",
            "_model_module_version": "1.5.0",
            "_model_name": "DescriptionStyleModel",
            "_view_count": null,
            "_view_module": "@jupyter-widgets/base",
            "_view_module_version": "1.2.0",
            "_view_name": "StyleView",
            "description_width": ""
          }
        },
        "492ffa2151974379a9627f0b05b28b5e": {
          "model_module": "@jupyter-widgets/controls",
          "model_module_version": "1.5.0",
          "model_name": "DescriptionStyleModel",
          "state": {
            "_model_module": "@jupyter-widgets/controls",
            "_model_module_version": "1.5.0",
            "_model_name": "DescriptionStyleModel",
            "_view_count": null,
            "_view_module": "@jupyter-widgets/base",
            "_view_module_version": "1.2.0",
            "_view_name": "StyleView",
            "description_width": ""
          }
        },
        "54b22f661d5c4cbcbed12c846cc9874c": {
          "model_module": "@jupyter-widgets/base",
          "model_module_version": "1.2.0",
          "model_name": "LayoutModel",
          "state": {
            "_model_module": "@jupyter-widgets/base",
            "_model_module_version": "1.2.0",
            "_model_name": "LayoutModel",
            "_view_count": null,
            "_view_module": "@jupyter-widgets/base",
            "_view_module_version": "1.2.0",
            "_view_name": "LayoutView",
            "align_content": null,
            "align_items": null,
            "align_self": null,
            "border": null,
            "bottom": null,
            "display": null,
            "flex": null,
            "flex_flow": null,
            "grid_area": null,
            "grid_auto_columns": null,
            "grid_auto_flow": null,
            "grid_auto_rows": null,
            "grid_column": null,
            "grid_gap": null,
            "grid_row": null,
            "grid_template_areas": null,
            "grid_template_columns": null,
            "grid_template_rows": null,
            "height": null,
            "justify_content": null,
            "justify_items": null,
            "left": null,
            "margin": null,
            "max_height": null,
            "max_width": null,
            "min_height": null,
            "min_width": null,
            "object_fit": null,
            "object_position": null,
            "order": null,
            "overflow": null,
            "overflow_x": null,
            "overflow_y": null,
            "padding": null,
            "right": null,
            "top": null,
            "visibility": null,
            "width": null
          }
        },
        "5ead39b4f9bc49c2962e8a38388720af": {
          "model_module": "@jupyter-widgets/base",
          "model_module_version": "1.2.0",
          "model_name": "LayoutModel",
          "state": {
            "_model_module": "@jupyter-widgets/base",
            "_model_module_version": "1.2.0",
            "_model_name": "LayoutModel",
            "_view_count": null,
            "_view_module": "@jupyter-widgets/base",
            "_view_module_version": "1.2.0",
            "_view_name": "LayoutView",
            "align_content": null,
            "align_items": null,
            "align_self": null,
            "border": null,
            "bottom": null,
            "display": null,
            "flex": null,
            "flex_flow": null,
            "grid_area": null,
            "grid_auto_columns": null,
            "grid_auto_flow": null,
            "grid_auto_rows": null,
            "grid_column": null,
            "grid_gap": null,
            "grid_row": null,
            "grid_template_areas": null,
            "grid_template_columns": null,
            "grid_template_rows": null,
            "height": null,
            "justify_content": null,
            "justify_items": null,
            "left": null,
            "margin": null,
            "max_height": null,
            "max_width": null,
            "min_height": null,
            "min_width": null,
            "object_fit": null,
            "object_position": null,
            "order": null,
            "overflow": null,
            "overflow_x": null,
            "overflow_y": null,
            "padding": null,
            "right": null,
            "top": null,
            "visibility": null,
            "width": null
          }
        },
        "6f7a900b63e444c3b27961fcb892a44c": {
          "model_module": "@jupyter-widgets/controls",
          "model_module_version": "1.5.0",
          "model_name": "HTMLModel",
          "state": {
            "_dom_classes": [],
            "_model_module": "@jupyter-widgets/controls",
            "_model_module_version": "1.5.0",
            "_model_name": "HTMLModel",
            "_view_count": null,
            "_view_module": "@jupyter-widgets/controls",
            "_view_module_version": "1.5.0",
            "_view_name": "HTMLView",
            "description": "",
            "description_tooltip": null,
            "layout": "IPY_MODEL_c3138a6d2fa447e1a69494ce9b0ca476",
            "placeholder": "​",
            "style": "IPY_MODEL_32f3d6acced5457fa95ef1a87007d2fe",
            "value": "<center> <img\nsrc=https://huggingface.co/front/assets/huggingface_logo-noborder.svg\nalt='Hugging Face'> <br> Copy a token from <a\nhref=\"https://huggingface.co/settings/tokens\" target=\"_blank\">your Hugging Face\ntokens page</a> and paste it below. <br> Immediately click login after copying\nyour token or it might be stored in plain text in this notebook file. </center>"
          }
        },
        "916d313ee9ee4b29a6bdeee5575cfd13": {
          "model_module": "@jupyter-widgets/base",
          "model_module_version": "1.2.0",
          "model_name": "LayoutModel",
          "state": {
            "_model_module": "@jupyter-widgets/base",
            "_model_module_version": "1.2.0",
            "_model_name": "LayoutModel",
            "_view_count": null,
            "_view_module": "@jupyter-widgets/base",
            "_view_module_version": "1.2.0",
            "_view_name": "LayoutView",
            "align_content": null,
            "align_items": "center",
            "align_self": null,
            "border": null,
            "bottom": null,
            "display": "flex",
            "flex": null,
            "flex_flow": "column",
            "grid_area": null,
            "grid_auto_columns": null,
            "grid_auto_flow": null,
            "grid_auto_rows": null,
            "grid_column": null,
            "grid_gap": null,
            "grid_row": null,
            "grid_template_areas": null,
            "grid_template_columns": null,
            "grid_template_rows": null,
            "height": null,
            "justify_content": null,
            "justify_items": null,
            "left": null,
            "margin": null,
            "max_height": null,
            "max_width": null,
            "min_height": null,
            "min_width": null,
            "object_fit": null,
            "object_position": null,
            "order": null,
            "overflow": null,
            "overflow_x": null,
            "overflow_y": null,
            "padding": null,
            "right": null,
            "top": null,
            "visibility": null,
            "width": "50%"
          }
        },
        "96aaee41270a4877b7b54602bef4cc99": {
          "model_module": "@jupyter-widgets/base",
          "model_module_version": "1.2.0",
          "model_name": "LayoutModel",
          "state": {
            "_model_module": "@jupyter-widgets/base",
            "_model_module_version": "1.2.0",
            "_model_name": "LayoutModel",
            "_view_count": null,
            "_view_module": "@jupyter-widgets/base",
            "_view_module_version": "1.2.0",
            "_view_name": "LayoutView",
            "align_content": null,
            "align_items": null,
            "align_self": null,
            "border": null,
            "bottom": null,
            "display": null,
            "flex": null,
            "flex_flow": null,
            "grid_area": null,
            "grid_auto_columns": null,
            "grid_auto_flow": null,
            "grid_auto_rows": null,
            "grid_column": null,
            "grid_gap": null,
            "grid_row": null,
            "grid_template_areas": null,
            "grid_template_columns": null,
            "grid_template_rows": null,
            "height": null,
            "justify_content": null,
            "justify_items": null,
            "left": null,
            "margin": null,
            "max_height": null,
            "max_width": null,
            "min_height": null,
            "min_width": null,
            "object_fit": null,
            "object_position": null,
            "order": null,
            "overflow": null,
            "overflow_x": null,
            "overflow_y": null,
            "padding": null,
            "right": null,
            "top": null,
            "visibility": null,
            "width": null
          }
        },
        "9dc7b5351b4e4cbab1fdc4dbee0283eb": {
          "model_module": "@jupyter-widgets/base",
          "model_module_version": "1.2.0",
          "model_name": "LayoutModel",
          "state": {
            "_model_module": "@jupyter-widgets/base",
            "_model_module_version": "1.2.0",
            "_model_name": "LayoutModel",
            "_view_count": null,
            "_view_module": "@jupyter-widgets/base",
            "_view_module_version": "1.2.0",
            "_view_name": "LayoutView",
            "align_content": null,
            "align_items": null,
            "align_self": null,
            "border": null,
            "bottom": null,
            "display": null,
            "flex": null,
            "flex_flow": null,
            "grid_area": null,
            "grid_auto_columns": null,
            "grid_auto_flow": null,
            "grid_auto_rows": null,
            "grid_column": null,
            "grid_gap": null,
            "grid_row": null,
            "grid_template_areas": null,
            "grid_template_columns": null,
            "grid_template_rows": null,
            "height": null,
            "justify_content": null,
            "justify_items": null,
            "left": null,
            "margin": null,
            "max_height": null,
            "max_width": null,
            "min_height": null,
            "min_width": null,
            "object_fit": null,
            "object_position": null,
            "order": null,
            "overflow": null,
            "overflow_x": null,
            "overflow_y": null,
            "padding": null,
            "right": null,
            "top": null,
            "visibility": null,
            "width": null
          }
        },
        "a7284d6c78d84aa8842893a297cdc107": {
          "model_module": "@jupyter-widgets/controls",
          "model_module_version": "1.5.0",
          "model_name": "HTMLModel",
          "state": {
            "_dom_classes": [],
            "_model_module": "@jupyter-widgets/controls",
            "_model_module_version": "1.5.0",
            "_model_name": "HTMLModel",
            "_view_count": null,
            "_view_module": "@jupyter-widgets/controls",
            "_view_module_version": "1.5.0",
            "_view_name": "HTMLView",
            "description": "",
            "description_tooltip": null,
            "layout": "IPY_MODEL_96aaee41270a4877b7b54602bef4cc99",
            "placeholder": "​",
            "style": "IPY_MODEL_26f0ecf1295f40ebbe7a922032bcd04b",
            "value": "\n<b>Pro Tip:</b> If you don't already have one, you can create a dedicated\n'notebooks' token with 'write' access, that you can then easily reuse for all\nnotebooks. </center>"
          }
        },
        "ad71a199be2a46919e8cadb952ef68dc": {
          "model_module": "@jupyter-widgets/controls",
          "model_module_version": "1.5.0",
          "model_name": "ButtonStyleModel",
          "state": {
            "_model_module": "@jupyter-widgets/controls",
            "_model_module_version": "1.5.0",
            "_model_name": "ButtonStyleModel",
            "_view_count": null,
            "_view_module": "@jupyter-widgets/base",
            "_view_module_version": "1.2.0",
            "_view_name": "StyleView",
            "button_color": null,
            "font_weight": ""
          }
        },
        "b441467a690f458e94314ff195128db0": {
          "model_module": "@jupyter-widgets/controls",
          "model_module_version": "1.5.0",
          "model_name": "CheckboxModel",
          "state": {
            "_dom_classes": [],
            "_model_module": "@jupyter-widgets/controls",
            "_model_module_version": "1.5.0",
            "_model_name": "CheckboxModel",
            "_view_count": null,
            "_view_module": "@jupyter-widgets/controls",
            "_view_module_version": "1.5.0",
            "_view_name": "CheckboxView",
            "description": "Add token as git credential?",
            "description_tooltip": null,
            "disabled": false,
            "indent": true,
            "layout": "IPY_MODEL_df1decaa2f1144149f4510738f8233de",
            "style": "IPY_MODEL_f0436d8b604d440bb6cb33531ac45cf7",
            "value": true
          }
        },
        "c3138a6d2fa447e1a69494ce9b0ca476": {
          "model_module": "@jupyter-widgets/base",
          "model_module_version": "1.2.0",
          "model_name": "LayoutModel",
          "state": {
            "_model_module": "@jupyter-widgets/base",
            "_model_module_version": "1.2.0",
            "_model_name": "LayoutModel",
            "_view_count": null,
            "_view_module": "@jupyter-widgets/base",
            "_view_module_version": "1.2.0",
            "_view_name": "LayoutView",
            "align_content": null,
            "align_items": null,
            "align_self": null,
            "border": null,
            "bottom": null,
            "display": null,
            "flex": null,
            "flex_flow": null,
            "grid_area": null,
            "grid_auto_columns": null,
            "grid_auto_flow": null,
            "grid_auto_rows": null,
            "grid_column": null,
            "grid_gap": null,
            "grid_row": null,
            "grid_template_areas": null,
            "grid_template_columns": null,
            "grid_template_rows": null,
            "height": null,
            "justify_content": null,
            "justify_items": null,
            "left": null,
            "margin": null,
            "max_height": null,
            "max_width": null,
            "min_height": null,
            "min_width": null,
            "object_fit": null,
            "object_position": null,
            "order": null,
            "overflow": null,
            "overflow_x": null,
            "overflow_y": null,
            "padding": null,
            "right": null,
            "top": null,
            "visibility": null,
            "width": null
          }
        },
        "cb2eadcfbc29415a8df0eaec8cb8b657": {
          "model_module": "@jupyter-widgets/controls",
          "model_module_version": "1.5.0",
          "model_name": "DescriptionStyleModel",
          "state": {
            "_model_module": "@jupyter-widgets/controls",
            "_model_module_version": "1.5.0",
            "_model_name": "DescriptionStyleModel",
            "_view_count": null,
            "_view_module": "@jupyter-widgets/base",
            "_view_module_version": "1.2.0",
            "_view_name": "StyleView",
            "description_width": ""
          }
        },
        "d394e6c2fce94ef4b69da321b0f9f8d4": {
          "model_module": "@jupyter-widgets/controls",
          "model_module_version": "1.5.0",
          "model_name": "VBoxModel",
          "state": {
            "_dom_classes": [],
            "_model_module": "@jupyter-widgets/controls",
            "_model_module_version": "1.5.0",
            "_model_name": "VBoxModel",
            "_view_count": null,
            "_view_module": "@jupyter-widgets/controls",
            "_view_module_version": "1.5.0",
            "_view_name": "VBoxView",
            "box_style": "",
            "children": [],
            "layout": "IPY_MODEL_916d313ee9ee4b29a6bdeee5575cfd13"
          }
        },
        "d968fffc78a74807a7e1921ca3c633ea": {
          "model_module": "@jupyter-widgets/controls",
          "model_module_version": "1.5.0",
          "model_name": "PasswordModel",
          "state": {
            "_dom_classes": [],
            "_model_module": "@jupyter-widgets/controls",
            "_model_module_version": "1.5.0",
            "_model_name": "PasswordModel",
            "_view_count": null,
            "_view_module": "@jupyter-widgets/controls",
            "_view_module_version": "1.5.0",
            "_view_name": "PasswordView",
            "continuous_update": true,
            "description": "Token:",
            "description_tooltip": null,
            "disabled": false,
            "layout": "IPY_MODEL_54b22f661d5c4cbcbed12c846cc9874c",
            "placeholder": "​",
            "style": "IPY_MODEL_cb2eadcfbc29415a8df0eaec8cb8b657",
            "value": ""
          }
        },
        "df1decaa2f1144149f4510738f8233de": {
          "model_module": "@jupyter-widgets/base",
          "model_module_version": "1.2.0",
          "model_name": "LayoutModel",
          "state": {
            "_model_module": "@jupyter-widgets/base",
            "_model_module_version": "1.2.0",
            "_model_name": "LayoutModel",
            "_view_count": null,
            "_view_module": "@jupyter-widgets/base",
            "_view_module_version": "1.2.0",
            "_view_name": "LayoutView",
            "align_content": null,
            "align_items": null,
            "align_self": null,
            "border": null,
            "bottom": null,
            "display": null,
            "flex": null,
            "flex_flow": null,
            "grid_area": null,
            "grid_auto_columns": null,
            "grid_auto_flow": null,
            "grid_auto_rows": null,
            "grid_column": null,
            "grid_gap": null,
            "grid_row": null,
            "grid_template_areas": null,
            "grid_template_columns": null,
            "grid_template_rows": null,
            "height": null,
            "justify_content": null,
            "justify_items": null,
            "left": null,
            "margin": null,
            "max_height": null,
            "max_width": null,
            "min_height": null,
            "min_width": null,
            "object_fit": null,
            "object_position": null,
            "order": null,
            "overflow": null,
            "overflow_x": null,
            "overflow_y": null,
            "padding": null,
            "right": null,
            "top": null,
            "visibility": null,
            "width": null
          }
        },
        "f0436d8b604d440bb6cb33531ac45cf7": {
          "model_module": "@jupyter-widgets/controls",
          "model_module_version": "1.5.0",
          "model_name": "DescriptionStyleModel",
          "state": {
            "_model_module": "@jupyter-widgets/controls",
            "_model_module_version": "1.5.0",
            "_model_name": "DescriptionStyleModel",
            "_view_count": null,
            "_view_module": "@jupyter-widgets/base",
            "_view_module_version": "1.2.0",
            "_view_name": "StyleView",
            "description_width": ""
          }
        },
        "f84f85a9319d4d02b8c23add8d8784c2": {
          "model_module": "@jupyter-widgets/controls",
          "model_module_version": "1.5.0",
          "model_name": "LabelModel",
          "state": {
            "_dom_classes": [],
            "_model_module": "@jupyter-widgets/controls",
            "_model_module_version": "1.5.0",
            "_model_name": "LabelModel",
            "_view_count": null,
            "_view_module": "@jupyter-widgets/controls",
            "_view_module_version": "1.5.0",
            "_view_name": "LabelView",
            "description": "",
            "description_tooltip": null,
            "layout": "IPY_MODEL_5ead39b4f9bc49c2962e8a38388720af",
            "placeholder": "​",
            "style": "IPY_MODEL_492ffa2151974379a9627f0b05b28b5e",
            "value": "Connecting..."
          }
        }
      }
    }
  },
  "nbformat": 4,
  "nbformat_minor": 0
}
